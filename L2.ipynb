{
 "cells": [
  {
   "cell_type": "code",
   "execution_count": 1,
   "id": "e4531ac6",
   "metadata": {},
   "outputs": [],
   "source": [
    "import tensorflow as tf\n",
    "\n",
    "from tensorflow.keras import models\n",
    "from tensorflow.keras import layers\n",
    "from tensorflow.keras import regularizers\n",
    "\n",
    "import random\n",
    "import numpy as np\n",
    "import matplotlib.pyplot as plt\n",
    "%matplotlib inline"
   ]
  },
  {
   "cell_type": "code",
   "execution_count": 2,
   "id": "d1e8b98f",
   "metadata": {},
   "outputs": [],
   "source": [
    "random.seed(42)         # Initialize the random number generator.\n",
    "np.random.seed(42)      # With the seed reset, the same set of numbers will appear every time. \n",
    "#tf.set_random_seed(42)  # sets the graph-level random seed\n",
    "tf.random.set_seed(42)"
   ]
  },
  {
   "cell_type": "code",
   "execution_count": 3,
   "id": "509740e5",
   "metadata": {},
   "outputs": [
    {
     "name": "stdout",
     "output_type": "stream",
     "text": [
      "(60000, 28, 28)\n",
      "(10000, 28, 28)\n",
      "(60000,)\n",
      "(10000,)\n"
     ]
    }
   ],
   "source": [
    "mnist = tf.keras.datasets.mnist\n",
    "\n",
    "(Xtrain, Ytrain) , (Xtest, Ytest) = mnist.load_data()\n",
    "\n",
    "# size of the datsets\n",
    "\n",
    "print(Xtrain.shape)\n",
    "print(Xtest.shape)\n",
    "print(Ytrain.shape)\n",
    "print(Ytest.shape)"
   ]
  },
  {
   "cell_type": "code",
   "execution_count": 4,
   "id": "26d36669",
   "metadata": {},
   "outputs": [],
   "source": [
    "Xtrain = Xtrain.reshape((60000, 28*28))    # reshape the input set to size 28*28. \n",
    "Xtrain = Xtrain.astype('float32')/255      # normalize to grayscale; set datatype as float32\n",
    "\n",
    "Xtest = Xtest.reshape((10000, 28*28))      # reshape the input set to size 28*28. \n",
    "Xtest = Xtest.astype('float32')/255        # normalize to grayscale; set datatype as float32\n",
    "\n",
    "Ytrain = tf.keras.utils.to_categorical(Ytrain)\n",
    "Ytest = tf.keras.utils.to_categorical(Ytest)"
   ]
  },
  {
   "cell_type": "code",
   "execution_count": 19,
   "id": "df06a48d",
   "metadata": {},
   "outputs": [
    {
     "name": "stdout",
     "output_type": "stream",
     "text": [
      "Model: \"sequential_6\"\n",
      "_________________________________________________________________\n",
      " Layer (type)                Output Shape              Param #   \n",
      "=================================================================\n",
      " dense_21 (Dense)            (None, 512)               401920    \n",
      "                                                                 \n",
      " dense_22 (Dense)            (None, 256)               131328    \n",
      "                                                                 \n",
      " dense_23 (Dense)            (None, 128)               32896     \n",
      "                                                                 \n",
      " dense_24 (Dense)            (None, 10)                1290      \n",
      "                                                                 \n",
      "=================================================================\n",
      "Total params: 567,434\n",
      "Trainable params: 567,434\n",
      "Non-trainable params: 0\n",
      "_________________________________________________________________\n"
     ]
    }
   ],
   "source": [
    "dnnModel = models.Sequential()\n",
    "\n",
    "\n",
    "dnnModel.add(layers.Dense(512, activation='relu', input_shape= (28*28,)))\n",
    "\n",
    "# Layer 2 = hidden layer  with Regularizers\n",
    "dnnModel.add(layers.Dense(256, activation='relu', kernel_regularizer=regularizers.l2(0.01), bias_regularizer=regularizers.l2(0.01),\n",
    "                activity_regularizer=regularizers.l2(0.01)) )\n",
    "\n",
    "# Layer 3 = hidden layer \n",
    "dnnModel.add(layers.Dense(128, activation='relu', kernel_regularizer=regularizers.l2(0.01), bias_regularizer=regularizers.l2(0.01),\n",
    "                activity_regularizer=regularizers.l2(0.01)))\n",
    "\n",
    "# Layer 4 = output layer\n",
    "dnnModel.add(layers.Dense(10, activation='softmax'))\n",
    "\n",
    "dnnModel.summary()\n"
   ]
  },
  {
   "cell_type": "code",
   "execution_count": 20,
   "id": "6bd90057",
   "metadata": {},
   "outputs": [],
   "source": [
    "dnnModel.compile( optimizer = 'adam', loss = 'categorical_crossentropy', metrics=['accuracy'] )"
   ]
  },
  {
   "cell_type": "code",
   "execution_count": 21,
   "id": "2d1801dd",
   "metadata": {},
   "outputs": [
    {
     "name": "stdout",
     "output_type": "stream",
     "text": [
      "Epoch 1/10\n",
      "750/750 [==============================] - 9s 10ms/step - loss: 0.9137 - accuracy: 0.9327 - val_loss: 0.3764 - val_accuracy: 0.9658\n",
      "Epoch 2/10\n",
      "750/750 [==============================] - 7s 9ms/step - loss: 0.3181 - accuracy: 0.9708 - val_loss: 0.2811 - val_accuracy: 0.9719\n",
      "Epoch 3/10\n",
      "750/750 [==============================] - 7s 10ms/step - loss: 0.2395 - accuracy: 0.9797 - val_loss: 0.2367 - val_accuracy: 0.9758\n",
      "Epoch 4/10\n",
      "750/750 [==============================] - 7s 10ms/step - loss: 0.1942 - accuracy: 0.9847 - val_loss: 0.2021 - val_accuracy: 0.9765\n",
      "Epoch 5/10\n",
      "750/750 [==============================] - 7s 10ms/step - loss: 0.1627 - accuracy: 0.9885 - val_loss: 0.1792 - val_accuracy: 0.9793\n",
      "Epoch 6/10\n",
      "750/750 [==============================] - 7s 10ms/step - loss: 0.1410 - accuracy: 0.9906 - val_loss: 0.1684 - val_accuracy: 0.9793\n",
      "Epoch 7/10\n",
      "750/750 [==============================] - 7s 10ms/step - loss: 0.1242 - accuracy: 0.9926 - val_loss: 0.1657 - val_accuracy: 0.9768\n",
      "Epoch 8/10\n",
      "750/750 [==============================] - 8s 10ms/step - loss: 0.1103 - accuracy: 0.9938 - val_loss: 0.1685 - val_accuracy: 0.9753\n",
      "Epoch 9/10\n",
      "750/750 [==============================] - 7s 10ms/step - loss: 0.1003 - accuracy: 0.9949 - val_loss: 0.1461 - val_accuracy: 0.9804\n",
      "Epoch 10/10\n",
      "750/750 [==============================] - 7s 10ms/step - loss: 0.0907 - accuracy: 0.9954 - val_loss: 0.1433 - val_accuracy: 0.9783\n"
     ]
    }
   ],
   "source": [
    "h = dnnModel.fit( Xtrain, Ytrain, epochs=10, validation_split=0.2, batch_size=64)"
   ]
  },
  {
   "cell_type": "code",
   "execution_count": 22,
   "id": "c77c7cc2",
   "metadata": {},
   "outputs": [
    {
     "name": "stdout",
     "output_type": "stream",
     "text": [
      "Final training loss \t 0.09066088497638702\n",
      "Final training accuracy  0.9954166412353516\n"
     ]
    }
   ],
   "source": [
    "print('Final training loss \\t', h.history['loss'][-1])\n",
    "print('Final training accuracy ', h.history['accuracy'][-1])"
   ]
  },
  {
   "cell_type": "code",
   "execution_count": 23,
   "id": "b1fdbdb3",
   "metadata": {},
   "outputs": [
    {
     "data": {
      "image/png": "[encoded data removed]",
      "text/plain": [
       "<Figure size 432x288 with 1 Axes>"
      ]
     },
     "metadata": {
      "needs_background": "light"
     },
     "output_type": "display_data"
    }
   ],
   "source": [
    "plt.plot(h.history['loss'], label='Train loss')\n",
    "plt.plot(h.history['val_loss'], label='Val loss') \n",
    "plt.xlabel('Epochs')\n",
    "plt.ylabel('Loss')\n",
    "plt.title('Plot of Training Loss')\n",
    "plt.legend()\n",
    "plt.show()"
   ]
  },
  {
   "cell_type": "code",
   "execution_count": 24,
   "id": "61fdf3d3",
   "metadata": {},
   "outputs": [
    {
     "data": {
      "image/png": "[encoded data removed]",
      "text/plain": [
       "<Figure size 432x288 with 1 Axes>"
      ]
     },
     "metadata": {
      "needs_background": "light"
     },
     "output_type": "display_data"
    }
   ],
   "source": [
    "plt.plot(h.history['accuracy'], label='Train Acc')\n",
    "plt.plot(h.history['val_accuracy'], label='Val Acc')\n",
    "plt.xlabel('Epochs')\n",
    "plt.ylabel('Accuracy')\n",
    "plt.title('Plot of Training Accuracy')\n",
    "plt.legend()\n",
    "plt.show()"
   ]
  },
  {
   "cell_type": "code",
   "execution_count": 25,
   "id": "4941cf3b",
   "metadata": {},
   "outputs": [
    {
     "name": "stdout",
     "output_type": "stream",
     "text": [
      "313/313 [==============================] - 1s 4ms/step - loss: 0.1383 - accuracy: 0.9792\n"
     ]
    }
   ],
   "source": [
    "testLoss, testAccuracy = dnnModel.evaluate( Xtest, Ytest)\n"
   ]
  },
  {
   "cell_type": "code",
   "execution_count": 26,
   "id": "a009590e",
   "metadata": {},
   "outputs": [
    {
     "name": "stdout",
     "output_type": "stream",
     "text": [
      "Testing loss \t 0.1382555216550827\n",
      "Testing accuracy  0.979200005531311\n"
     ]
    }
   ],
   "source": [
    "print('Testing loss \\t', testLoss)\n",
    "print('Testing accuracy ', testAccuracy)"
   ]
  },
  {
   "cell_type": "code",
   "execution_count": null,
   "id": "d2e6857d",
   "metadata": {},
   "outputs": [],
   "source": []
  }
 ],
 "metadata": {
  "kernelspec": {
   "display_name": "Python 3 (ipykernel)",
   "language": "python",
   "name": "python3"
  },
  "language_info": {
   "codemirror_mode": {
    "name": "ipython",
    "version": 3
   },
   "file_extension": ".py",
   "mimetype": "text/x-python",
   "name": "python",
   "nbconvert_exporter": "python",
   "pygments_lexer": "ipython3",
   "version": "3.9.7"
  }
 },
 "nbformat": 4,
 "nbformat_minor": 5
}
